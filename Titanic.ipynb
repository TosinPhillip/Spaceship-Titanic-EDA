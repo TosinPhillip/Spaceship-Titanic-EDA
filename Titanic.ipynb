{
 "cells": [
  {
   "cell_type": "code",
   "execution_count": 87,
   "metadata": {},
   "outputs": [],
   "source": [
    "import pandas as pd\n",
    "import numpy as np\n",
    "import matplotlib.pyplot as plt\n",
    "import seaborn as sns\n",
    "import sklearn.metrics as met\n",
    "from sklearn.decomposition import PCA\n",
    "from sklearn.preprocessing import StandardScaler\n",
    "from sklearn.model_selection import train_test_split\n",
    "from sklearn.linear_model import LogisticRegression\n",
    "from sklearn.svm import LinearSVC\n",
    "from sklearn.tree import DecisionTreeClassifier, ExtraTreeClassifier\n",
    "from sklearn.ensemble import RandomForestClassifier, StackingClassifier"
   ]
  },
  {
   "cell_type": "code",
   "execution_count": 88,
   "metadata": {},
   "outputs": [],
   "source": [
    "train = pd.read_csv('train.csv')\n",
    "test = pd.read_csv('test.csv')\n",
    "submit = pd.read_csv('sample_submission.csv')"
   ]
  },
  {
   "cell_type": "code",
   "execution_count": 89,
   "metadata": {},
   "outputs": [
    {
     "data": {
      "text/html": [
       "<div>\n",
       "<style scoped>\n",
       "    .dataframe tbody tr th:only-of-type {\n",
       "        vertical-align: middle;\n",
       "    }\n",
       "\n",
       "    .dataframe tbody tr th {\n",
       "        vertical-align: top;\n",
       "    }\n",
       "\n",
       "    .dataframe thead th {\n",
       "        text-align: right;\n",
       "    }\n",
       "</style>\n",
       "<table border=\"1\" class=\"dataframe\">\n",
       "  <thead>\n",
       "    <tr style=\"text-align: right;\">\n",
       "      <th></th>\n",
       "      <th>PassengerId</th>\n",
       "      <th>HomePlanet</th>\n",
       "      <th>CryoSleep</th>\n",
       "      <th>Cabin</th>\n",
       "      <th>Destination</th>\n",
       "      <th>Age</th>\n",
       "      <th>VIP</th>\n",
       "      <th>RoomService</th>\n",
       "      <th>FoodCourt</th>\n",
       "      <th>ShoppingMall</th>\n",
       "      <th>Spa</th>\n",
       "      <th>VRDeck</th>\n",
       "      <th>Name</th>\n",
       "      <th>Transported</th>\n",
       "    </tr>\n",
       "  </thead>\n",
       "  <tbody>\n",
       "    <tr>\n",
       "      <th>0</th>\n",
       "      <td>0001_01</td>\n",
       "      <td>Europa</td>\n",
       "      <td>False</td>\n",
       "      <td>B/0/P</td>\n",
       "      <td>TRAPPIST-1e</td>\n",
       "      <td>39.0</td>\n",
       "      <td>False</td>\n",
       "      <td>0.0</td>\n",
       "      <td>0.0</td>\n",
       "      <td>0.0</td>\n",
       "      <td>0.0</td>\n",
       "      <td>0.0</td>\n",
       "      <td>Maham Ofracculy</td>\n",
       "      <td>False</td>\n",
       "    </tr>\n",
       "    <tr>\n",
       "      <th>1</th>\n",
       "      <td>0002_01</td>\n",
       "      <td>Earth</td>\n",
       "      <td>False</td>\n",
       "      <td>F/0/S</td>\n",
       "      <td>TRAPPIST-1e</td>\n",
       "      <td>24.0</td>\n",
       "      <td>False</td>\n",
       "      <td>109.0</td>\n",
       "      <td>9.0</td>\n",
       "      <td>25.0</td>\n",
       "      <td>549.0</td>\n",
       "      <td>44.0</td>\n",
       "      <td>Juanna Vines</td>\n",
       "      <td>True</td>\n",
       "    </tr>\n",
       "    <tr>\n",
       "      <th>2</th>\n",
       "      <td>0003_01</td>\n",
       "      <td>Europa</td>\n",
       "      <td>False</td>\n",
       "      <td>A/0/S</td>\n",
       "      <td>TRAPPIST-1e</td>\n",
       "      <td>58.0</td>\n",
       "      <td>True</td>\n",
       "      <td>43.0</td>\n",
       "      <td>3576.0</td>\n",
       "      <td>0.0</td>\n",
       "      <td>6715.0</td>\n",
       "      <td>49.0</td>\n",
       "      <td>Altark Susent</td>\n",
       "      <td>False</td>\n",
       "    </tr>\n",
       "    <tr>\n",
       "      <th>3</th>\n",
       "      <td>0003_02</td>\n",
       "      <td>Europa</td>\n",
       "      <td>False</td>\n",
       "      <td>A/0/S</td>\n",
       "      <td>TRAPPIST-1e</td>\n",
       "      <td>33.0</td>\n",
       "      <td>False</td>\n",
       "      <td>0.0</td>\n",
       "      <td>1283.0</td>\n",
       "      <td>371.0</td>\n",
       "      <td>3329.0</td>\n",
       "      <td>193.0</td>\n",
       "      <td>Solam Susent</td>\n",
       "      <td>False</td>\n",
       "    </tr>\n",
       "    <tr>\n",
       "      <th>4</th>\n",
       "      <td>0004_01</td>\n",
       "      <td>Earth</td>\n",
       "      <td>False</td>\n",
       "      <td>F/1/S</td>\n",
       "      <td>TRAPPIST-1e</td>\n",
       "      <td>16.0</td>\n",
       "      <td>False</td>\n",
       "      <td>303.0</td>\n",
       "      <td>70.0</td>\n",
       "      <td>151.0</td>\n",
       "      <td>565.0</td>\n",
       "      <td>2.0</td>\n",
       "      <td>Willy Santantines</td>\n",
       "      <td>True</td>\n",
       "    </tr>\n",
       "  </tbody>\n",
       "</table>\n",
       "</div>"
      ],
      "text/plain": [
       "  PassengerId HomePlanet CryoSleep  Cabin  Destination   Age    VIP  \\\n",
       "0     0001_01     Europa     False  B/0/P  TRAPPIST-1e  39.0  False   \n",
       "1     0002_01      Earth     False  F/0/S  TRAPPIST-1e  24.0  False   \n",
       "2     0003_01     Europa     False  A/0/S  TRAPPIST-1e  58.0   True   \n",
       "3     0003_02     Europa     False  A/0/S  TRAPPIST-1e  33.0  False   \n",
       "4     0004_01      Earth     False  F/1/S  TRAPPIST-1e  16.0  False   \n",
       "\n",
       "   RoomService  FoodCourt  ShoppingMall     Spa  VRDeck               Name  \\\n",
       "0          0.0        0.0           0.0     0.0     0.0    Maham Ofracculy   \n",
       "1        109.0        9.0          25.0   549.0    44.0       Juanna Vines   \n",
       "2         43.0     3576.0           0.0  6715.0    49.0      Altark Susent   \n",
       "3          0.0     1283.0         371.0  3329.0   193.0       Solam Susent   \n",
       "4        303.0       70.0         151.0   565.0     2.0  Willy Santantines   \n",
       "\n",
       "   Transported  \n",
       "0        False  \n",
       "1         True  \n",
       "2        False  \n",
       "3        False  \n",
       "4         True  "
      ]
     },
     "metadata": {},
     "output_type": "display_data"
    }
   ],
   "source": [
    "display(train.head())"
   ]
  },
  {
   "cell_type": "code",
   "execution_count": 90,
   "metadata": {},
   "outputs": [
    {
     "data": {
      "text/html": [
       "<div>\n",
       "<style scoped>\n",
       "    .dataframe tbody tr th:only-of-type {\n",
       "        vertical-align: middle;\n",
       "    }\n",
       "\n",
       "    .dataframe tbody tr th {\n",
       "        vertical-align: top;\n",
       "    }\n",
       "\n",
       "    .dataframe thead th {\n",
       "        text-align: right;\n",
       "    }\n",
       "</style>\n",
       "<table border=\"1\" class=\"dataframe\">\n",
       "  <thead>\n",
       "    <tr style=\"text-align: right;\">\n",
       "      <th></th>\n",
       "      <th>Age</th>\n",
       "      <th>RoomService</th>\n",
       "      <th>FoodCourt</th>\n",
       "      <th>ShoppingMall</th>\n",
       "      <th>Spa</th>\n",
       "      <th>VRDeck</th>\n",
       "    </tr>\n",
       "  </thead>\n",
       "  <tbody>\n",
       "    <tr>\n",
       "      <th>count</th>\n",
       "      <td>8514.000000</td>\n",
       "      <td>8512.000000</td>\n",
       "      <td>8510.000000</td>\n",
       "      <td>8485.000000</td>\n",
       "      <td>8510.000000</td>\n",
       "      <td>8505.000000</td>\n",
       "    </tr>\n",
       "    <tr>\n",
       "      <th>mean</th>\n",
       "      <td>28.827930</td>\n",
       "      <td>224.687617</td>\n",
       "      <td>458.077203</td>\n",
       "      <td>173.729169</td>\n",
       "      <td>311.138778</td>\n",
       "      <td>304.854791</td>\n",
       "    </tr>\n",
       "    <tr>\n",
       "      <th>std</th>\n",
       "      <td>14.489021</td>\n",
       "      <td>666.717663</td>\n",
       "      <td>1611.489240</td>\n",
       "      <td>604.696458</td>\n",
       "      <td>1136.705535</td>\n",
       "      <td>1145.717189</td>\n",
       "    </tr>\n",
       "    <tr>\n",
       "      <th>min</th>\n",
       "      <td>0.000000</td>\n",
       "      <td>0.000000</td>\n",
       "      <td>0.000000</td>\n",
       "      <td>0.000000</td>\n",
       "      <td>0.000000</td>\n",
       "      <td>0.000000</td>\n",
       "    </tr>\n",
       "    <tr>\n",
       "      <th>25%</th>\n",
       "      <td>19.000000</td>\n",
       "      <td>0.000000</td>\n",
       "      <td>0.000000</td>\n",
       "      <td>0.000000</td>\n",
       "      <td>0.000000</td>\n",
       "      <td>0.000000</td>\n",
       "    </tr>\n",
       "    <tr>\n",
       "      <th>50%</th>\n",
       "      <td>27.000000</td>\n",
       "      <td>0.000000</td>\n",
       "      <td>0.000000</td>\n",
       "      <td>0.000000</td>\n",
       "      <td>0.000000</td>\n",
       "      <td>0.000000</td>\n",
       "    </tr>\n",
       "    <tr>\n",
       "      <th>75%</th>\n",
       "      <td>38.000000</td>\n",
       "      <td>47.000000</td>\n",
       "      <td>76.000000</td>\n",
       "      <td>27.000000</td>\n",
       "      <td>59.000000</td>\n",
       "      <td>46.000000</td>\n",
       "    </tr>\n",
       "    <tr>\n",
       "      <th>max</th>\n",
       "      <td>79.000000</td>\n",
       "      <td>14327.000000</td>\n",
       "      <td>29813.000000</td>\n",
       "      <td>23492.000000</td>\n",
       "      <td>22408.000000</td>\n",
       "      <td>24133.000000</td>\n",
       "    </tr>\n",
       "  </tbody>\n",
       "</table>\n",
       "</div>"
      ],
      "text/plain": [
       "               Age   RoomService     FoodCourt  ShoppingMall           Spa  \\\n",
       "count  8514.000000   8512.000000   8510.000000   8485.000000   8510.000000   \n",
       "mean     28.827930    224.687617    458.077203    173.729169    311.138778   \n",
       "std      14.489021    666.717663   1611.489240    604.696458   1136.705535   \n",
       "min       0.000000      0.000000      0.000000      0.000000      0.000000   \n",
       "25%      19.000000      0.000000      0.000000      0.000000      0.000000   \n",
       "50%      27.000000      0.000000      0.000000      0.000000      0.000000   \n",
       "75%      38.000000     47.000000     76.000000     27.000000     59.000000   \n",
       "max      79.000000  14327.000000  29813.000000  23492.000000  22408.000000   \n",
       "\n",
       "             VRDeck  \n",
       "count   8505.000000  \n",
       "mean     304.854791  \n",
       "std     1145.717189  \n",
       "min        0.000000  \n",
       "25%        0.000000  \n",
       "50%        0.000000  \n",
       "75%       46.000000  \n",
       "max    24133.000000  "
      ]
     },
     "metadata": {},
     "output_type": "display_data"
    }
   ],
   "source": [
    "display(train.describe())"
   ]
  },
  {
   "cell_type": "code",
   "execution_count": 91,
   "metadata": {},
   "outputs": [
    {
     "name": "stdout",
     "output_type": "stream",
     "text": [
      "<class 'pandas.core.frame.DataFrame'>\n",
      "RangeIndex: 8693 entries, 0 to 8692\n",
      "Data columns (total 14 columns):\n",
      " #   Column        Non-Null Count  Dtype  \n",
      "---  ------        --------------  -----  \n",
      " 0   PassengerId   8693 non-null   object \n",
      " 1   HomePlanet    8492 non-null   object \n",
      " 2   CryoSleep     8476 non-null   object \n",
      " 3   Cabin         8494 non-null   object \n",
      " 4   Destination   8511 non-null   object \n",
      " 5   Age           8514 non-null   float64\n",
      " 6   VIP           8490 non-null   object \n",
      " 7   RoomService   8512 non-null   float64\n",
      " 8   FoodCourt     8510 non-null   float64\n",
      " 9   ShoppingMall  8485 non-null   float64\n",
      " 10  Spa           8510 non-null   float64\n",
      " 11  VRDeck        8505 non-null   float64\n",
      " 12  Name          8493 non-null   object \n",
      " 13  Transported   8693 non-null   bool   \n",
      "dtypes: bool(1), float64(6), object(7)\n",
      "memory usage: 891.5+ KB\n"
     ]
    },
    {
     "data": {
      "text/plain": [
       "None"
      ]
     },
     "metadata": {},
     "output_type": "display_data"
    }
   ],
   "source": [
    "display(train.info())"
   ]
  },
  {
   "cell_type": "code",
   "execution_count": 92,
   "metadata": {},
   "outputs": [
    {
     "name": "stdout",
     "output_type": "stream",
     "text": [
      "PassengerId       0\n",
      "HomePlanet      201\n",
      "CryoSleep       217\n",
      "Cabin           199\n",
      "Destination     182\n",
      "Age             179\n",
      "VIP             203\n",
      "RoomService     181\n",
      "FoodCourt       183\n",
      "ShoppingMall    208\n",
      "Spa             183\n",
      "VRDeck          188\n",
      "Name            200\n",
      "Transported       0\n",
      "dtype: int64\n"
     ]
    }
   ],
   "source": [
    "print(train.isnull().sum())"
   ]
  },
  {
   "cell_type": "markdown",
   "metadata": {},
   "source": [
    "**HomePlanet**\n",
    "\n",
    "There are three home planets: Earth, Europa and Mars. Earth being the most common (4602/8492)\n",
    "Does the planet you came from affect your survival?\n"
   ]
  },
  {
   "cell_type": "code",
   "execution_count": 93,
   "metadata": {},
   "outputs": [
    {
     "data": {
      "text/plain": [
       "Earth     4602\n",
       "Europa    2131\n",
       "Mars      1759\n",
       "Name: HomePlanet, dtype: int64"
      ]
     },
     "execution_count": 93,
     "metadata": {},
     "output_type": "execute_result"
    }
   ],
   "source": [
    "train['HomePlanet'].value_counts()"
   ]
  },
  {
   "cell_type": "markdown",
   "metadata": {},
   "source": [
    "**CryoSleep**\n",
    "\n",
    "Most people did not have CryoSleep. About 5439 people out of the 8476 people do not have it. (217 missing)\n",
    "How does this affect survival chance?\n"
   ]
  },
  {
   "cell_type": "code",
   "execution_count": 94,
   "metadata": {},
   "outputs": [
    {
     "data": {
      "text/plain": [
       "False    5439\n",
       "True     3037\n",
       "Name: CryoSleep, dtype: int64"
      ]
     },
     "execution_count": 94,
     "metadata": {},
     "output_type": "execute_result"
    }
   ],
   "source": [
    "train.CryoSleep.value_counts()"
   ]
  },
  {
   "cell_type": "markdown",
   "metadata": {},
   "source": [
    "**Cabin**\n",
    "\n",
    "There are 6560 different cabin codes. #G/734/S# is the most common, holding 8 people.\n",
    "Overall, only 8494 people had their cabin codes recorded (199 missing)."
   ]
  },
  {
   "cell_type": "code",
   "execution_count": 95,
   "metadata": {},
   "outputs": [
    {
     "name": "stdout",
     "output_type": "stream",
     "text": [
      "There are 6560 cabins on the ship.\n"
     ]
    },
    {
     "data": {
      "text/plain": [
       "G/734/S     8\n",
       "G/109/P     7\n",
       "B/201/P     7\n",
       "G/1368/P    7\n",
       "G/981/S     7\n",
       "           ..\n",
       "G/556/P     1\n",
       "E/231/S     1\n",
       "G/545/S     1\n",
       "G/543/S     1\n",
       "F/947/P     1\n",
       "Name: Cabin, Length: 6560, dtype: int64"
      ]
     },
     "metadata": {},
     "output_type": "display_data"
    },
    {
     "name": "stdout",
     "output_type": "stream",
     "text": [
      "There are 6561 different cabin codes.\n"
     ]
    }
   ],
   "source": [
    "print('There are', len(train['Cabin'].value_counts()), 'cabins on the ship.')\n",
    "display(train['Cabin'].value_counts())\n",
    "\n",
    "print('There are', len(train['Cabin'].unique()), 'different cabin codes.')"
   ]
  },
  {
   "cell_type": "markdown",
   "metadata": {},
   "source": [
    "**Destination**\n",
    "\n",
    "There are 3 destinations. \n",
    "\n",
    "TRAPPIST-1e, 55 Cancrie and PSO 3318.5 -22. About 6000 people were headed for TRAPPIST -1e.\n",
    "182 people do not have destinations recorded."
   ]
  },
  {
   "cell_type": "code",
   "execution_count": 96,
   "metadata": {},
   "outputs": [
    {
     "name": "stdout",
     "output_type": "stream",
     "text": [
      "TRAPPIST-1e      5915\n",
      "55 Cancri e      1800\n",
      "PSO J318.5-22     796\n",
      "Name: Destination, dtype: int64\n"
     ]
    }
   ],
   "source": [
    "\n",
    "\n",
    "print(train['Destination'].value_counts())"
   ]
  },
  {
   "cell_type": "markdown",
   "metadata": {},
   "source": [
    "**Age**\n",
    "\n",
    "Only one percent of the people are over 65 years. Most of them are between 20 and 40.\n",
    "There is a significant number of babies and toddlers. I hope they are escaped. \n",
    "179 people do not know their ages."
   ]
  },
  {
   "cell_type": "code",
   "execution_count": 97,
   "metadata": {},
   "outputs": [
    {
     "data": {
      "image/png": "[encoded data removed]",
      "text/plain": [
       "<Figure size 432x288 with 1 Axes>"
      ]
     },
     "metadata": {
      "needs_background": "light"
     },
     "output_type": "display_data"
    }
   ],
   "source": [
    "sns.kdeplot(x=train['Age'])\n",
    "plt.show()"
   ]
  },
  {
   "cell_type": "code",
   "execution_count": 98,
   "metadata": {},
   "outputs": [
    {
     "data": {
      "image/png": "[encoded data removed]",
      "text/plain": [
       "<Figure size 432x288 with 1 Axes>"
      ]
     },
     "metadata": {
      "needs_background": "light"
     },
     "output_type": "display_data"
    }
   ],
   "source": [
    "sns.histplot(train['Age'])\n",
    "plt.show()"
   ]
  },
  {
   "cell_type": "code",
   "execution_count": 99,
   "metadata": {},
   "outputs": [
    {
     "name": "stdout",
     "output_type": "stream",
     "text": [
      "count    8514.000000\n",
      "mean       28.827930\n",
      "std        14.489021\n",
      "min         0.000000\n",
      "10%        13.000000\n",
      "20%        18.000000\n",
      "30%        21.000000\n",
      "40%        24.000000\n",
      "50%        27.000000\n",
      "60%        31.000000\n",
      "70%        35.000000\n",
      "80%        41.000000\n",
      "90%        49.000000\n",
      "95%        56.000000\n",
      "99%        65.000000\n",
      "max        79.000000\n",
      "Name: Age, dtype: float64\n"
     ]
    }
   ],
   "source": [
    "print(train['Age'].describe(percentiles=[.1, .2, .3, .4, .5, .6, .7, .8, .9, .95, .99]))"
   ]
  },
  {
   "cell_type": "markdown",
   "metadata": {},
   "source": [
    "**VIP**\n",
    "\n",
    "As expected, only 199 people out of the 8490 people are in the VIP lounge. Maybe VIP also has a specific Cabin Code. We shall see.\n",
    "\n",
    "And maybe VIP personnels get VIP treatment in the face of death?\n",
    "\n",
    "203 people do not even know if they are in VIP or not. Maybe they were hitch-hikers... lol"
   ]
  },
  {
   "cell_type": "code",
   "execution_count": 100,
   "metadata": {},
   "outputs": [
    {
     "data": {
      "text/plain": [
       "False    8291\n",
       "True      199\n",
       "Name: VIP, dtype: int64"
      ]
     },
     "execution_count": 100,
     "metadata": {},
     "output_type": "execute_result"
    }
   ],
   "source": [
    "train['VIP'].value_counts()"
   ]
  },
  {
   "cell_type": "markdown",
   "metadata": {},
   "source": [
    "**RoomService**\n",
    "\n",
    "5577 people out of 8512 have nothing to do with Room Service, whereas someone spent as much as 14000 on the same. Are VIP personnels more prone to using Room service? How about old people? Or people from other planets?\n",
    "\n",
    "What is the total amount spent on Room service?"
   ]
  },
  {
   "cell_type": "code",
   "execution_count": 101,
   "metadata": {},
   "outputs": [
    {
     "data": {
      "text/plain": [
       "0.0       5577\n",
       "1.0        117\n",
       "2.0         79\n",
       "3.0         61\n",
       "4.0         47\n",
       "          ... \n",
       "1612.0       1\n",
       "2598.0       1\n",
       "632.0        1\n",
       "378.0        1\n",
       "745.0        1\n",
       "Name: RoomService, Length: 1273, dtype: int64"
      ]
     },
     "execution_count": 101,
     "metadata": {},
     "output_type": "execute_result"
    }
   ],
   "source": [
    "train['RoomService'].value_counts()"
   ]
  },
  {
   "cell_type": "markdown",
   "metadata": {},
   "source": [
    "**FoodCourt**\n",
    "\n",
    "While someone spent 30000 at the food court, most people spend less than 5000. except the 183 people who are secretive about their spendings."
   ]
  },
  {
   "cell_type": "code",
   "execution_count": 102,
   "metadata": {},
   "outputs": [
    {
     "name": "stdout",
     "output_type": "stream",
     "text": [
      "count     8510.000000\n",
      "mean       458.077203\n",
      "std       1611.489240\n",
      "min          0.000000\n",
      "50%          0.000000\n",
      "90%       1026.000000\n",
      "95%       2748.500000\n",
      "99%       8033.310000\n",
      "99.5%    11013.465000\n",
      "max      29813.000000\n",
      "Name: FoodCourt, dtype: float64\n"
     ]
    },
    {
     "data": {
      "image/png": "[encoded data removed]",
      "text/plain": [
       "<Figure size 432x288 with 1 Axes>"
      ]
     },
     "metadata": {
      "needs_background": "light"
     },
     "output_type": "display_data"
    }
   ],
   "source": [
    "print(train['FoodCourt'].describe(percentiles=[.90, .95, .99, .995]))\n",
    "sns.boxplot(y=train['FoodCourt'])\n",
    "plt.show()"
   ]
  },
  {
   "cell_type": "markdown",
   "metadata": {},
   "source": [
    "**ShoppingMall**\n",
    "\n",
    "While half of the people spent 0 at the Mall and 99% of everyone spent less than 2333 at the mall, there is a 1% who do not care to spend as much as 23,500 at the mall.\n",
    "\n",
    "It seems some crazily rich people are aboard this ship. Do they spend this much at the food court and the spa too? How old are these rich folks? How many of them are there?\n"
   ]
  },
  {
   "cell_type": "code",
   "execution_count": 103,
   "metadata": {},
   "outputs": [
    {
     "name": "stdout",
     "output_type": "stream",
     "text": [
      "count     8485.000000\n",
      "mean       173.729169\n",
      "std        604.696458\n",
      "min          0.000000\n",
      "10%          0.000000\n",
      "50%          0.000000\n",
      "80%         97.000000\n",
      "90%        619.600000\n",
      "95%        927.800000\n",
      "99%       2333.440000\n",
      "max      23492.000000\n",
      "Name: ShoppingMall, dtype: float64\n"
     ]
    },
    {
     "data": {
      "image/png": "[encoded data removed]",
      "text/plain": [
       "<Figure size 432x288 with 1 Axes>"
      ]
     },
     "metadata": {
      "needs_background": "light"
     },
     "output_type": "display_data"
    }
   ],
   "source": [
    "sns.kdeplot(x=train['ShoppingMall'])\n",
    "print(train['ShoppingMall'].describe(percentiles=[.1, .8, .9, .95, .99]))\n",
    "plt.show()"
   ]
  },
  {
   "cell_type": "markdown",
   "metadata": {},
   "source": [
    "**Spa**\n",
    "\n",
    "60% of the people did not visit the spa at all.\n",
    "\n",
    "99.5% of the people spend less than 7000 at the Spa. Some of these crazily rich folks spent over 22,000(0.5% of the total number)\n",
    "\n",
    "It seems that after food, those who spend high, spent it at the spa.\n",
    "\n",
    "Are females nearer to the spa than males?\n",
    "Are old men?\n",
    "Old rich women?\n",
    "How do those who spend high at the mall spend at the spa?\n",
    "How does this affect their survival?"
   ]
  },
  {
   "cell_type": "code",
   "execution_count": 104,
   "metadata": {},
   "outputs": [
    {
     "name": "stdout",
     "output_type": "stream",
     "text": [
      "count     8510.000000\n",
      "mean       311.138778\n",
      "std       1136.705535\n",
      "min          0.000000\n",
      "10%          0.000000\n",
      "50%          0.000000\n",
      "60%          0.000000\n",
      "70%         15.000000\n",
      "90%        732.000000\n",
      "95%       1607.100000\n",
      "99%       5390.100000\n",
      "99.5%     7837.110000\n",
      "max      22408.000000\n",
      "Name: Spa, dtype: float64\n"
     ]
    },
    {
     "data": {
      "image/png": "[encoded data removed]",
      "text/plain": [
       "<Figure size 432x288 with 1 Axes>"
      ]
     },
     "metadata": {
      "needs_background": "light"
     },
     "output_type": "display_data"
    }
   ],
   "source": [
    "sns.kdeplot(train['Spa'])\n",
    "print(train['Spa'].describe(percentiles=[.1, .6, .7, .9, .95, .99, .995]))\n",
    "plt.show()"
   ]
  },
  {
   "cell_type": "markdown",
   "metadata": {},
   "source": [
    "**VRDeck**\n",
    "I do not really understand what this means.], but most people still don't see the need fort it.\n",
    "\n",
    "But our rich friends still played to the gallery as usual."
   ]
  },
  {
   "cell_type": "code",
   "execution_count": 105,
   "metadata": {},
   "outputs": [
    {
     "data": {
      "image/png": "[encoded data removed]",
      "text/plain": [
       "<Figure size 432x288 with 1 Axes>"
      ]
     },
     "metadata": {
      "needs_background": "light"
     },
     "output_type": "display_data"
    }
   ],
   "source": [
    "sns.kdeplot(train['VRDeck'])\n",
    "plt.show()"
   ]
  },
  {
   "cell_type": "markdown",
   "metadata": {},
   "source": [
    "**Name**\n",
    "\n",
    "This is not so interesting, but 200 names were missing. I wish I could query the clerk.\n",
    "The only interesting part is probably that there are 8474 unique names.\n",
    "\n",
    "\n",
    "Yes, a few people had the same names!\n",
    "\n",
    "We don't really care who they are, do you?"
   ]
  },
  {
   "cell_type": "code",
   "execution_count": 106,
   "metadata": {},
   "outputs": [
    {
     "data": {
      "text/plain": [
       "8474"
      ]
     },
     "execution_count": 106,
     "metadata": {},
     "output_type": "execute_result"
    }
   ],
   "source": [
    "len(train['Name'].unique())"
   ]
  },
  {
   "cell_type": "markdown",
   "metadata": {},
   "source": [
    "**Transported**\n",
    "\n",
    "I guess this is what reflects the survival.\n",
    "About 50% survived. Thank God we are able to account for everyone.\n",
    "At least, anyone missing at the shore did not survive."
   ]
  },
  {
   "cell_type": "code",
   "execution_count": 107,
   "metadata": {},
   "outputs": [
    {
     "data": {
      "text/plain": [
       "True     4378\n",
       "False    4315\n",
       "Name: Transported, dtype: int64"
      ]
     },
     "execution_count": 107,
     "metadata": {},
     "output_type": "execute_result"
    }
   ],
   "source": [
    "train.Transported.value_counts()"
   ]
  },
  {
   "cell_type": "markdown",
   "metadata": {},
   "source": [
    "Now, some **EDA's**\n",
    "\n",
    "* *Does the planet you come from affect your survival?*\n",
    "* *Does having CryoSleep affect your survival?*\n",
    "* *What is common to those guys on G/734/S?*\n",
    "* *Which cabin(s) is/are likely to be VIP?*\n",
    "* *How did the toddlers and aged people fare?*\n",
    "* *How did VIP fare in the face of death?*\n",
    "* *What is the spending habit of VIP guys?*\n",
    "* *Do old people use Room service seriously?*\n",
    "* *Who are those guys that spend crazily?*\n",
    "* *How many foolish spenders or, hopefully, stinkingly rich guys are aboard?*\n",
    "* *Which gender and age patronised the Spa more?*\n",
    "* *Does the spa save from death?*\n",
    "* *Tell me the names that people share and how many of them share each name*"
   ]
  },
  {
   "cell_type": "markdown",
   "metadata": {},
   "source": [
    "Does the planet you come from affect your survival?"
   ]
  },
  {
   "cell_type": "code",
   "execution_count": 108,
   "metadata": {},
   "outputs": [
    {
     "data": {
      "image/png": "[encoded data removed]",
      "text/plain": [
       "<Figure size 432x288 with 1 Axes>"
      ]
     },
     "metadata": {
      "needs_background": "light"
     },
     "output_type": "display_data"
    }
   ],
   "source": [
    "sns.countplot(x='HomePlanet', hue='Transported', data=train)\n",
    "plt.show()"
   ]
  },
  {
   "cell_type": "markdown",
   "metadata": {},
   "source": [
    "Most people from Europa survived and most non-survivors are Earthers. That may not be surprising considering that half of those aboard are Earthers. Apart from the Earthers, everyone has more chance of surviving than dying."
   ]
  },
  {
   "cell_type": "markdown",
   "metadata": {},
   "source": [
    "Does Cryosleep affect your survival?"
   ]
  },
  {
   "cell_type": "code",
   "execution_count": 109,
   "metadata": {},
   "outputs": [
    {
     "data": {
      "image/png": "[encoded data removed]",
      "text/plain": [
       "<Figure size 432x288 with 1 Axes>"
      ]
     },
     "metadata": {
      "needs_background": "light"
     },
     "output_type": "display_data"
    }
   ],
   "source": [
    "sns.countplot(x='CryoSleep', hue='Transported', data=train)\n",
    "plt.show()"
   ]
  },
  {
   "cell_type": "markdown",
   "metadata": {},
   "source": [
    "Wow! Most people who had Cryosleep did survive and about two-thirds of those who did not have Cryosleep did not survive.\n",
    "\n",
    "Although...this does not imply causation."
   ]
  },
  {
   "cell_type": "markdown",
   "metadata": {},
   "source": [
    "What is common to those guyes on G/734/S?"
   ]
  },
  {
   "cell_type": "code",
   "execution_count": 110,
   "metadata": {},
   "outputs": [
    {
     "data": {
      "text/html": [
       "<div>\n",
       "<style scoped>\n",
       "    .dataframe tbody tr th:only-of-type {\n",
       "        vertical-align: middle;\n",
       "    }\n",
       "\n",
       "    .dataframe tbody tr th {\n",
       "        vertical-align: top;\n",
       "    }\n",
       "\n",
       "    .dataframe thead th {\n",
       "        text-align: right;\n",
       "    }\n",
       "</style>\n",
       "<table border=\"1\" class=\"dataframe\">\n",
       "  <thead>\n",
       "    <tr style=\"text-align: right;\">\n",
       "      <th></th>\n",
       "      <th>PassengerId</th>\n",
       "      <th>HomePlanet</th>\n",
       "      <th>CryoSleep</th>\n",
       "      <th>Cabin</th>\n",
       "      <th>Destination</th>\n",
       "      <th>Age</th>\n",
       "      <th>VIP</th>\n",
       "      <th>RoomService</th>\n",
       "      <th>FoodCourt</th>\n",
       "      <th>ShoppingMall</th>\n",
       "      <th>Spa</th>\n",
       "      <th>VRDeck</th>\n",
       "      <th>Name</th>\n",
       "      <th>Transported</th>\n",
       "    </tr>\n",
       "  </thead>\n",
       "  <tbody>\n",
       "    <tr>\n",
       "      <th>4221</th>\n",
       "      <td>4498_01</td>\n",
       "      <td>Earth</td>\n",
       "      <td>False</td>\n",
       "      <td>G/734/S</td>\n",
       "      <td>55 Cancri e</td>\n",
       "      <td>11.0</td>\n",
       "      <td>False</td>\n",
       "      <td>0.0</td>\n",
       "      <td>0.0</td>\n",
       "      <td>0.0</td>\n",
       "      <td>0.0</td>\n",
       "      <td>0.0</td>\n",
       "      <td>Valex Munozanson</td>\n",
       "      <td>False</td>\n",
       "    </tr>\n",
       "    <tr>\n",
       "      <th>4222</th>\n",
       "      <td>4498_02</td>\n",
       "      <td>Earth</td>\n",
       "      <td>True</td>\n",
       "      <td>G/734/S</td>\n",
       "      <td>PSO J318.5-22</td>\n",
       "      <td>14.0</td>\n",
       "      <td>False</td>\n",
       "      <td>0.0</td>\n",
       "      <td>0.0</td>\n",
       "      <td>0.0</td>\n",
       "      <td>0.0</td>\n",
       "      <td>0.0</td>\n",
       "      <td>Loise Beckeetter</td>\n",
       "      <td>False</td>\n",
       "    </tr>\n",
       "    <tr>\n",
       "      <th>4223</th>\n",
       "      <td>4498_03</td>\n",
       "      <td>Earth</td>\n",
       "      <td>True</td>\n",
       "      <td>G/734/S</td>\n",
       "      <td>PSO J318.5-22</td>\n",
       "      <td>4.0</td>\n",
       "      <td>False</td>\n",
       "      <td>0.0</td>\n",
       "      <td>0.0</td>\n",
       "      <td>0.0</td>\n",
       "      <td>0.0</td>\n",
       "      <td>0.0</td>\n",
       "      <td>Lorie Beckeetter</td>\n",
       "      <td>True</td>\n",
       "    </tr>\n",
       "    <tr>\n",
       "      <th>4224</th>\n",
       "      <td>4498_04</td>\n",
       "      <td>Earth</td>\n",
       "      <td>False</td>\n",
       "      <td>G/734/S</td>\n",
       "      <td>TRAPPIST-1e</td>\n",
       "      <td>11.0</td>\n",
       "      <td>False</td>\n",
       "      <td>0.0</td>\n",
       "      <td>0.0</td>\n",
       "      <td>0.0</td>\n",
       "      <td>0.0</td>\n",
       "      <td>NaN</td>\n",
       "      <td>Dandy Munozanson</td>\n",
       "      <td>False</td>\n",
       "    </tr>\n",
       "    <tr>\n",
       "      <th>4225</th>\n",
       "      <td>4498_05</td>\n",
       "      <td>Earth</td>\n",
       "      <td>True</td>\n",
       "      <td>G/734/S</td>\n",
       "      <td>TRAPPIST-1e</td>\n",
       "      <td>31.0</td>\n",
       "      <td>False</td>\n",
       "      <td>0.0</td>\n",
       "      <td>0.0</td>\n",
       "      <td>0.0</td>\n",
       "      <td>0.0</td>\n",
       "      <td>0.0</td>\n",
       "      <td>Karay Beckeetter</td>\n",
       "      <td>True</td>\n",
       "    </tr>\n",
       "    <tr>\n",
       "      <th>4226</th>\n",
       "      <td>4498_06</td>\n",
       "      <td>Earth</td>\n",
       "      <td>False</td>\n",
       "      <td>G/734/S</td>\n",
       "      <td>TRAPPIST-1e</td>\n",
       "      <td>15.0</td>\n",
       "      <td>False</td>\n",
       "      <td>0.0</td>\n",
       "      <td>893.0</td>\n",
       "      <td>0.0</td>\n",
       "      <td>0.0</td>\n",
       "      <td>0.0</td>\n",
       "      <td>Line Munozanson</td>\n",
       "      <td>True</td>\n",
       "    </tr>\n",
       "    <tr>\n",
       "      <th>4227</th>\n",
       "      <td>4498_07</td>\n",
       "      <td>Earth</td>\n",
       "      <td>False</td>\n",
       "      <td>G/734/S</td>\n",
       "      <td>TRAPPIST-1e</td>\n",
       "      <td>39.0</td>\n",
       "      <td>False</td>\n",
       "      <td>0.0</td>\n",
       "      <td>2.0</td>\n",
       "      <td>0.0</td>\n",
       "      <td>69.0</td>\n",
       "      <td>836.0</td>\n",
       "      <td>Dary Mallerez</td>\n",
       "      <td>False</td>\n",
       "    </tr>\n",
       "    <tr>\n",
       "      <th>4228</th>\n",
       "      <td>4498_08</td>\n",
       "      <td>Earth</td>\n",
       "      <td>False</td>\n",
       "      <td>G/734/S</td>\n",
       "      <td>TRAPPIST-1e</td>\n",
       "      <td>7.0</td>\n",
       "      <td>False</td>\n",
       "      <td>0.0</td>\n",
       "      <td>0.0</td>\n",
       "      <td>0.0</td>\n",
       "      <td>0.0</td>\n",
       "      <td>0.0</td>\n",
       "      <td>Kendy Munozanson</td>\n",
       "      <td>False</td>\n",
       "    </tr>\n",
       "  </tbody>\n",
       "</table>\n",
       "</div>"
      ],
      "text/plain": [
       "     PassengerId HomePlanet CryoSleep    Cabin    Destination   Age    VIP  \\\n",
       "4221     4498_01      Earth     False  G/734/S    55 Cancri e  11.0  False   \n",
       "4222     4498_02      Earth      True  G/734/S  PSO J318.5-22  14.0  False   \n",
       "4223     4498_03      Earth      True  G/734/S  PSO J318.5-22   4.0  False   \n",
       "4224     4498_04      Earth     False  G/734/S    TRAPPIST-1e  11.0  False   \n",
       "4225     4498_05      Earth      True  G/734/S    TRAPPIST-1e  31.0  False   \n",
       "4226     4498_06      Earth     False  G/734/S    TRAPPIST-1e  15.0  False   \n",
       "4227     4498_07      Earth     False  G/734/S    TRAPPIST-1e  39.0  False   \n",
       "4228     4498_08      Earth     False  G/734/S    TRAPPIST-1e   7.0  False   \n",
       "\n",
       "      RoomService  FoodCourt  ShoppingMall   Spa  VRDeck              Name  \\\n",
       "4221          0.0        0.0           0.0   0.0     0.0  Valex Munozanson   \n",
       "4222          0.0        0.0           0.0   0.0     0.0  Loise Beckeetter   \n",
       "4223          0.0        0.0           0.0   0.0     0.0  Lorie Beckeetter   \n",
       "4224          0.0        0.0           0.0   0.0     NaN  Dandy Munozanson   \n",
       "4225          0.0        0.0           0.0   0.0     0.0  Karay Beckeetter   \n",
       "4226          0.0      893.0           0.0   0.0     0.0   Line Munozanson   \n",
       "4227          0.0        2.0           0.0  69.0   836.0     Dary Mallerez   \n",
       "4228          0.0        0.0           0.0   0.0     0.0  Kendy Munozanson   \n",
       "\n",
       "      Transported  \n",
       "4221        False  \n",
       "4222        False  \n",
       "4223         True  \n",
       "4224        False  \n",
       "4225         True  \n",
       "4226         True  \n",
       "4227        False  \n",
       "4228        False  "
      ]
     },
     "metadata": {},
     "output_type": "display_data"
    }
   ],
   "source": [
    "display(train[train['Cabin'] == 'G/734/S'])"
   ]
  },
  {
   "cell_type": "markdown",
   "metadata": {},
   "source": [
    "All of them are Earthers. It is confirmed that this cabin is no VIP. None of our guys used Room Service or Shopping Mall. There seem to be 2 families and one guy on this cabin: The Monozansons and the Beckeeters and Dary Mallerez. Mr(s) Dary is the oldest (39 years). (S)he is the only one who used the Spa and VRDeck in this Cabin."
   ]
  },
  {
   "cell_type": "markdown",
   "metadata": {},
   "source": [
    "Which cabins are likely to be VIP?"
   ]
  },
  {
   "cell_type": "code",
   "execution_count": 111,
   "metadata": {},
   "outputs": [
    {
     "name": "stdout",
     "output_type": "stream",
     "text": [
      "There are 190 VIP cabins\n"
     ]
    },
    {
     "data": {
      "text/plain": [
       "F/1550/P    2\n",
       "A/103/S     2\n",
       "A/75/P      2\n",
       "D/189/S     1\n",
       "F/1287/P    1\n",
       "           ..\n",
       "C/111/P     1\n",
       "A/30/P      1\n",
       "B/131/S     1\n",
       "D/113/P     1\n",
       "A/98/P      1\n",
       "Name: Cabin, Length: 190, dtype: int64"
      ]
     },
     "execution_count": 111,
     "metadata": {},
     "output_type": "execute_result"
    }
   ],
   "source": [
    "VIP = train[train['VIP'] == True]\n",
    "print('There are', len(VIP['Cabin'].value_counts()), 'VIP cabins')\n",
    "VIP['Cabin'].value_counts(sort=True)"
   ]
  },
  {
   "cell_type": "markdown",
   "metadata": {},
   "source": [
    "There are 190 VIP cabins. Each one holds just 1 person, except for 3 cabins holding 2 each.I suspect those two people are family members. Out of over 6000 cabins, we cannot pinpoint which ones are VIPs. We will need more information on how the ship's cabin was structured to determine what is going on. I guess that the Alphabetic prefixes means something I don't know.\n",
    "\n",
    "Oh, you think I knew? LOL"
   ]
  },
  {
   "cell_type": "markdown",
   "metadata": {},
   "source": [
    "How did toddlers and aged people fare?\n",
    "\n",
    "Wait, we need to define what age range our toddlers are.\n",
    "\n",
    "We can say 0-10 years will be our toddler and,\n",
    "65-79 will be our aged ones.\n",
    "\n",
    "You can tweak it based on intuition, inside knowledge or just curiosity"
   ]
  },
  {
   "cell_type": "code",
   "execution_count": 117,
   "metadata": {},
   "outputs": [
    {
     "name": "stdout",
     "output_type": "stream",
     "text": [
      "There are 825 people in our age brackets.\n",
      "There are 718 people below 10.\n",
      "There are 107 people greater than 65.\n",
      "Data for <10 guys: \n",
      " True     0.707521\n",
      "False    0.292479\n",
      "Name: Transported, dtype: float64\n",
      "Data for >65 guys: \n",
      " False    0.560748\n",
      "True     0.439252\n",
      "Name: Transported, dtype: float64\n",
      "Data for other guys: \n",
      " False    0.514501\n",
      "True     0.485499\n",
      "Name: Transported, dtype: float64\n"
     ]
    },
    {
     "data": {
      "image/png": "[encoded data removed]",
      "text/plain": [
       "<Figure size 432x288 with 1 Axes>"
      ]
     },
     "metadata": {
      "needs_background": "light"
     },
     "output_type": "display_data"
    }
   ],
   "source": [
    "both_age_ranges = train[(train['Age'] <= 10) | (train['Age'] >=65)]\n",
    "not_in_range = train[(train['Age']>10) & (train['Age'] < 65)]\n",
    "\n",
    "less_than_10 = train[train['Age'] <= 10]\n",
    "greater_than_65 = train[train['Age'] >= 65]\n",
    "\n",
    "print('There are', both_age_ranges.shape[0], 'people in our age brackets.')\n",
    "print('There are', less_than_10.shape[0], 'people below 10.')\n",
    "print('There are', greater_than_65.shape[0], 'people greater than 65.')\n",
    "\n",
    "\n",
    "print('Data for <10 guys:', '\\n', less_than_10['Transported'].value_counts(normalize=True))\n",
    "print('Data for >65 guys:', '\\n', greater_than_65['Transported'].value_counts(normalize=True))\n",
    "print('Data for other guys:', '\\n', not_in_range['Transported'].value_counts(normalize=True))\n",
    "\n",
    "sns.countplot(x=less_than_10['Transported'])\n",
    "plt.show()"
   ]
  },
  {
   "cell_type": "markdown",
   "metadata": {},
   "source": [
    "70% of the toddlers survived but it was worse with the adults."
   ]
  },
  {
   "cell_type": "markdown",
   "metadata": {},
   "source": [
    "How did VIP fare in the face of death?"
   ]
  },
  {
   "cell_type": "code",
   "execution_count": 118,
   "metadata": {},
   "outputs": [
    {
     "data": {
      "image/png": "[encoded data removed]",
      "text/plain": [
       "<Figure size 432x288 with 1 Axes>"
      ]
     },
     "metadata": {
      "needs_background": "light"
     },
     "output_type": "display_data"
    }
   ],
   "source": [
    "sns.countplot(x='Transported', data=VIP)\n",
    "plt.show()"
   ]
  },
  {
   "cell_type": "markdown",
   "metadata": {},
   "source": [
    "Suprisingly, death doesn't respect VIP. Something else may be responsible for that though. Deeper EDA might find it out."
   ]
  },
  {
   "cell_type": "markdown",
   "metadata": {},
   "source": [
    "What is the spending habit of VIP guys?"
   ]
  },
  {
   "cell_type": "code",
   "execution_count": 119,
   "metadata": {},
   "outputs": [
    {
     "data": {
      "image/png": "[encoded data removed]",
      "text/plain": [
       "<Figure size 432x288 with 1 Axes>"
      ]
     },
     "metadata": {
      "needs_background": "light"
     },
     "output_type": "display_data"
    }
   ],
   "source": [
    "VIP_spendings = VIP[['RoomService', 'FoodCourt', 'ShoppingMall', 'Spa', 'VRDeck']]\n",
    "sns.boxplot(data=VIP_spendings)\n",
    "plt.show()"
   ]
  },
  {
   "cell_type": "code",
   "execution_count": 120,
   "metadata": {},
   "outputs": [
    {
     "data": {
      "image/png": "[encoded data removed]",
      "text/plain": [
       "<Figure size 432x288 with 1 Axes>"
      ]
     },
     "metadata": {
      "needs_background": "light"
     },
     "output_type": "display_data"
    }
   ],
   "source": [
    "sns.kdeplot(data=VIP_spendings)\n",
    "plt.show()"
   ]
  },
  {
   "cell_type": "markdown",
   "metadata": {},
   "source": [
    "Wow! So rich men - sorry, VIP guys- do not spend money lavishly? The box plot shows that majority(safely 80%) of them spend below 5000 on anything. Those who spent most did so on Food.\n",
    "\n",
    "As if with a united heart, they spent the least amount at the Mall. \n",
    "\n",
    "So those extravagant spenders are not that rich? What a trip we're on!\n",
    "\n",
    "Let's not forget how the kdeplot is overcrowded and will not be the best visual aid in this case, except of course, it is created separately for each variable."
   ]
  },
  {
   "cell_type": "markdown",
   "metadata": {},
   "source": [
    "Do old people use Room service seriously?"
   ]
  },
  {
   "cell_type": "code",
   "execution_count": 121,
   "metadata": {},
   "outputs": [
    {
     "name": "stdout",
     "output_type": "stream",
     "text": [
      "327.53333333333336\n",
      "The number of old people who spend more than 75% of the entire people aboard is 34\n"
     ]
    },
    {
     "data": {
      "image/png": "[encoded data removed]",
      "text/plain": [
       "<Figure size 432x288 with 1 Axes>"
      ]
     },
     "metadata": {
      "needs_background": "light"
     },
     "output_type": "display_data"
    }
   ],
   "source": [
    "sns.rugplot(x='RoomService', data=greater_than_65)\n",
    "print(greater_than_65['RoomService'].mean())\n",
    "print('The number of old people who spend more than 75% of the entire people aboard is', (greater_than_65['RoomService'] > 47).sum())\n",
    "plt.show()"
   ]
  },
  {
   "cell_type": "markdown",
   "metadata": {},
   "source": [
    "Considering that the average amount everybody spends on Room Service is 224, aged people spend more on it averagely.\n",
    "\n",
    "OH! 75% of people spend less than 47, while 34/107 old people spent above that. A whooping 63/107 spent 0 on that. That means, more than half do not like Room Service or do not need it or cannot afford it. We cannot therefore conclude that old people use Room service more than others. We can only say that those who do spend big on it. \n",
    "\n",
    "Maybe the older they, are the more they spend. We wouldn't know because we are not finding that out"
   ]
  },
  {
   "cell_type": "markdown",
   "metadata": {},
   "source": [
    "Who are these guys that spend crazy?\n",
    "\n",
    "Well, we need a threshold to cut out broke guys. Let's set it at top 10% spending.\n",
    "\n",
    "For Room service, the 10% is 14327;\n",
    "FoodCourt has it at 1026;\n",
    "ShoppingMall stays at 619.6;\n",
    "Spa at 732;\n",
    "VRDeck at 732.6"
   ]
  },
  {
   "cell_type": "code",
   "execution_count": 122,
   "metadata": {},
   "outputs": [
    {
     "data": {
      "text/html": [
       "<div>\n",
       "<style scoped>\n",
       "    .dataframe tbody tr th:only-of-type {\n",
       "        vertical-align: middle;\n",
       "    }\n",
       "\n",
       "    .dataframe tbody tr th {\n",
       "        vertical-align: top;\n",
       "    }\n",
       "\n",
       "    .dataframe thead th {\n",
       "        text-align: right;\n",
       "    }\n",
       "</style>\n",
       "<table border=\"1\" class=\"dataframe\">\n",
       "  <thead>\n",
       "    <tr style=\"text-align: right;\">\n",
       "      <th></th>\n",
       "      <th>Age</th>\n",
       "      <th>RoomService</th>\n",
       "      <th>FoodCourt</th>\n",
       "      <th>ShoppingMall</th>\n",
       "      <th>Spa</th>\n",
       "      <th>VRDeck</th>\n",
       "    </tr>\n",
       "  </thead>\n",
       "  <tbody>\n",
       "    <tr>\n",
       "      <th>count</th>\n",
       "      <td>8514.000000</td>\n",
       "      <td>8512.000000</td>\n",
       "      <td>8510.000000</td>\n",
       "      <td>8485.000000</td>\n",
       "      <td>8510.000000</td>\n",
       "      <td>8505.000000</td>\n",
       "    </tr>\n",
       "    <tr>\n",
       "      <th>mean</th>\n",
       "      <td>28.827930</td>\n",
       "      <td>224.687617</td>\n",
       "      <td>458.077203</td>\n",
       "      <td>173.729169</td>\n",
       "      <td>311.138778</td>\n",
       "      <td>304.854791</td>\n",
       "    </tr>\n",
       "    <tr>\n",
       "      <th>std</th>\n",
       "      <td>14.489021</td>\n",
       "      <td>666.717663</td>\n",
       "      <td>1611.489240</td>\n",
       "      <td>604.696458</td>\n",
       "      <td>1136.705535</td>\n",
       "      <td>1145.717189</td>\n",
       "    </tr>\n",
       "    <tr>\n",
       "      <th>min</th>\n",
       "      <td>0.000000</td>\n",
       "      <td>0.000000</td>\n",
       "      <td>0.000000</td>\n",
       "      <td>0.000000</td>\n",
       "      <td>0.000000</td>\n",
       "      <td>0.000000</td>\n",
       "    </tr>\n",
       "    <tr>\n",
       "      <th>50%</th>\n",
       "      <td>27.000000</td>\n",
       "      <td>0.000000</td>\n",
       "      <td>0.000000</td>\n",
       "      <td>0.000000</td>\n",
       "      <td>0.000000</td>\n",
       "      <td>0.000000</td>\n",
       "    </tr>\n",
       "    <tr>\n",
       "      <th>90%</th>\n",
       "      <td>49.000000</td>\n",
       "      <td>753.000000</td>\n",
       "      <td>1026.000000</td>\n",
       "      <td>619.600000</td>\n",
       "      <td>732.000000</td>\n",
       "      <td>732.600000</td>\n",
       "    </tr>\n",
       "    <tr>\n",
       "      <th>max</th>\n",
       "      <td>79.000000</td>\n",
       "      <td>14327.000000</td>\n",
       "      <td>29813.000000</td>\n",
       "      <td>23492.000000</td>\n",
       "      <td>22408.000000</td>\n",
       "      <td>24133.000000</td>\n",
       "    </tr>\n",
       "  </tbody>\n",
       "</table>\n",
       "</div>"
      ],
      "text/plain": [
       "               Age   RoomService     FoodCourt  ShoppingMall           Spa  \\\n",
       "count  8514.000000   8512.000000   8510.000000   8485.000000   8510.000000   \n",
       "mean     28.827930    224.687617    458.077203    173.729169    311.138778   \n",
       "std      14.489021    666.717663   1611.489240    604.696458   1136.705535   \n",
       "min       0.000000      0.000000      0.000000      0.000000      0.000000   \n",
       "50%      27.000000      0.000000      0.000000      0.000000      0.000000   \n",
       "90%      49.000000    753.000000   1026.000000    619.600000    732.000000   \n",
       "max      79.000000  14327.000000  29813.000000  23492.000000  22408.000000   \n",
       "\n",
       "             VRDeck  \n",
       "count   8505.000000  \n",
       "mean     304.854791  \n",
       "std     1145.717189  \n",
       "min        0.000000  \n",
       "50%        0.000000  \n",
       "90%      732.600000  \n",
       "max    24133.000000  "
      ]
     },
     "execution_count": 122,
     "metadata": {},
     "output_type": "execute_result"
    }
   ],
   "source": [
    "train.describe(percentiles=[.9])"
   ]
  },
  {
   "cell_type": "code",
   "execution_count": 123,
   "metadata": {},
   "outputs": [
    {
     "name": "stdout",
     "output_type": "stream",
     "text": [
      "There are 2635 big spenderzz\n",
      "The average age of big spenders is 32.896525096525096\n",
      "The youngest big spender is 13.0 years old\n",
      "131 big spenders stay in VIP. Very low.\n",
      "0 of them had Cryosleep\n",
      "Europa    1076\n",
      "Earth     1062\n",
      "Mars       446\n",
      "Name: HomePlanet, dtype: int64\n"
     ]
    }
   ],
   "source": [
    "big_spenders = train[\n",
    "    (train['RoomService'] > 14327) |\n",
    "    (train['FoodCourt'] > 1026) |\n",
    "    (train['ShoppingMall'] > 620) |\n",
    "    (train['Spa'] > 732) |\n",
    "    (train['VRDeck'] > 733)\n",
    "]\n",
    "\n",
    "print('There are', big_spenders.shape[0], 'big spenderzz')\n",
    "print('The average age of big spenders is', big_spenders['Age'].mean())\n",
    "print('The youngest big spender is', big_spenders['Age'].min(), 'years old')\n",
    "print((big_spenders['VIP'] == True).sum(), 'big spenders stay in VIP. Very low.')\n",
    "print((big_spenders['CryoSleep'] == True).sum(), 'of them had Cryosleep')\n",
    "print(big_spenders['HomePlanet'].value_counts())"
   ]
  },
  {
   "cell_type": "markdown",
   "metadata": {},
   "source": [
    "Yay! EuropANS do not mind spending big. They must either be super rich in that planet orrrrrrr they are stupid spenders orrrrr they want to impress orrrr.... continue imagining. \n",
    "\n",
    "But you can't blame them so much with blaming Earthers too. Almost the same number of people came from Earth too. Just that the fraction points at EuropANS as gallery players.\n",
    "\n",
    "\n",
    "We already answered how many stinkingly rich guys we have aboard. Too bad we can't know if they are really rich or blazing their trust funds."
   ]
  },
  {
   "cell_type": "markdown",
   "metadata": {},
   "source": [
    "Now that we have answered a lot of questions with our dataset. Shall we now replace missing datapoints and prepare the data for analysis?\n",
    "\n",
    "* We will make the missing HomePlanet points a home planet on its own. (Unknown)\n",
    "* Since we cannot be between cyrosleep and no cryosleep, let's also fix the missing points as 'Unkown'\n",
    "* The 199 missing cabin points should follow the same trend.\n",
    "* Same for the destination\n",
    "* Age is not categorical. We might just fill the mean of the age at those missing points.\n",
    "* Let's also assume it possible to be between VIP and not-VIP\n",
    "* And let other numerical columns follow suit."
   ]
  },
  {
   "cell_type": "code",
   "execution_count": 124,
   "metadata": {},
   "outputs": [],
   "source": [
    "train[['HomePlanet', 'CryoSleep', 'Cabin',\n",
    "       'Destination', 'VIP']] = train[['HomePlanet', 'CryoSleep', 'Cabin',\n",
    "       'Destination', 'VIP']].fillna(value='Unknown', axis=1)\n",
    "       \n",
    "       \n",
    "train['Age'] = train['Age'].fillna(value=train['Age'].mean())\n",
    "train['RoomService'] = train['RoomService'].fillna(value=train['RoomService'].mean())\n",
    "train['FoodCourt'] = train['FoodCourt'].fillna(value=train['FoodCourt'].mean())\n",
    "train['ShoppingMall'] = train['ShoppingMall'].fillna(value=train['ShoppingMall'].mean())\n",
    "train['Spa'] = train['Spa'].fillna(value=train['Spa'].mean())\n",
    "train['VRDeck'] = train['VRDeck'].fillna(value=train['VRDeck'].mean())"
   ]
  },
  {
   "cell_type": "code",
   "execution_count": 125,
   "metadata": {},
   "outputs": [
    {
     "data": {
      "text/plain": [
       "PassengerId       0\n",
       "HomePlanet        0\n",
       "CryoSleep         0\n",
       "Cabin             0\n",
       "Destination       0\n",
       "Age               0\n",
       "VIP               0\n",
       "RoomService       0\n",
       "FoodCourt         0\n",
       "ShoppingMall      0\n",
       "Spa               0\n",
       "VRDeck            0\n",
       "Name            200\n",
       "Transported       0\n",
       "dtype: int64"
      ]
     },
     "execution_count": 125,
     "metadata": {},
     "output_type": "execute_result"
    }
   ],
   "source": [
    "train.isnull().sum()"
   ]
  },
  {
   "cell_type": "markdown",
   "metadata": {},
   "source": [
    "We left the names because encoding them may prove a disadvantage (so many columns will result from the encoding and we have less than 10,000 rows.) We will have to drop the names. Whatever effect the name may have on the outcome (maybe some surnames guarantee automatic transportation) will be small compared to the ill effects of the high dimensional data that will result.\n",
    "The same thing applies to Cabin\n",
    "\n",
    "Then Ncode every other column we will!"
   ]
  },
  {
   "cell_type": "code",
   "execution_count": 126,
   "metadata": {},
   "outputs": [],
   "source": [
    "clean_train = train.drop(['PassengerId', 'Name', 'Cabin'], axis=1)\n",
    "encoded = pd.get_dummies(data=clean_train, columns=['HomePlanet', 'CryoSleep',\n",
    "                                                    'Destination','VIP', 'Transported'])"
   ]
  },
  {
   "cell_type": "code",
   "execution_count": 127,
   "metadata": {},
   "outputs": [
    {
     "name": "stdout",
     "output_type": "stream",
     "text": [
      "<class 'pandas.core.frame.DataFrame'>\n",
      "RangeIndex: 8693 entries, 0 to 8692\n",
      "Data columns (total 22 columns):\n",
      " #   Column                     Non-Null Count  Dtype  \n",
      "---  ------                     --------------  -----  \n",
      " 0   Age                        8693 non-null   float64\n",
      " 1   RoomService                8693 non-null   float64\n",
      " 2   FoodCourt                  8693 non-null   float64\n",
      " 3   ShoppingMall               8693 non-null   float64\n",
      " 4   Spa                        8693 non-null   float64\n",
      " 5   VRDeck                     8693 non-null   float64\n",
      " 6   HomePlanet_Earth           8693 non-null   uint8  \n",
      " 7   HomePlanet_Europa          8693 non-null   uint8  \n",
      " 8   HomePlanet_Mars            8693 non-null   uint8  \n",
      " 9   HomePlanet_Unknown         8693 non-null   uint8  \n",
      " 10  CryoSleep_False            8693 non-null   uint8  \n",
      " 11  CryoSleep_True             8693 non-null   uint8  \n",
      " 12  CryoSleep_Unknown          8693 non-null   uint8  \n",
      " 13  Destination_55 Cancri e    8693 non-null   uint8  \n",
      " 14  Destination_PSO J318.5-22  8693 non-null   uint8  \n",
      " 15  Destination_TRAPPIST-1e    8693 non-null   uint8  \n",
      " 16  Destination_Unknown        8693 non-null   uint8  \n",
      " 17  VIP_False                  8693 non-null   uint8  \n",
      " 18  VIP_True                   8693 non-null   uint8  \n",
      " 19  VIP_Unknown                8693 non-null   uint8  \n",
      " 20  Transported_False          8693 non-null   uint8  \n",
      " 21  Transported_True           8693 non-null   uint8  \n",
      "dtypes: float64(6), uint8(16)\n",
      "memory usage: 543.4 KB\n"
     ]
    }
   ],
   "source": [
    "encoded.info()"
   ]
  },
  {
   "cell_type": "markdown",
   "metadata": {},
   "source": [
    "Now, we are getting ready for model development"
   ]
  },
  {
   "cell_type": "code",
   "execution_count": 152,
   "metadata": {},
   "outputs": [],
   "source": [
    "X = encoded.drop(['Transported_True', 'Transported_False', 'Destination_PSO J318.5-22', 'Destination_TRAPPIST-1e',\n",
    "                'Destination_Unknown', 'VIP_True', 'VIP_Unknown'], axis=1)\n",
    "y = encoded['Transported_True']"
   ]
  },
  {
   "cell_type": "code",
   "execution_count": 153,
   "metadata": {},
   "outputs": [],
   "source": [
    "#pca = PCA()\n",
    "#pca.fit_transform(X)\n"
   ]
  },
  {
   "cell_type": "code",
   "execution_count": 154,
   "metadata": {},
   "outputs": [],
   "source": [
    "# plt.bar(x=range(len(pca.explained_variance_)), height=pca.explained_variance_)"
   ]
  },
  {
   "cell_type": "markdown",
   "metadata": {},
   "source": [
    "Let's define our model assessment function"
   ]
  },
  {
   "cell_type": "code",
   "execution_count": 155,
   "metadata": {},
   "outputs": [],
   "source": [
    "def assess(model):\n",
    "    train_acc = met.accuracy_score(y_train, model.predict(X_train))\n",
    "    train_bal_acc = met.balanced_accuracy_score(y_train, model.predict(X_train))\n",
    "    train_f1 = met.f1_score(y_train, model.predict(X_train))\n",
    "    train_recall = met.recall_score(y_train, model.predict(X_train))\n",
    "    train_precision = met.precision_score(y_train, model.predict(X_train))\n",
    "    \n",
    "    test_acc = met.accuracy_score(y_test, model.predict(X_test))\n",
    "    test_bal_acc = met.balanced_accuracy_score(y_test, model.predict(X_test))\n",
    "    test_f1 = met.f1_score(y_test, model.predict(X_test))\n",
    "    test_recall = met.recall_score(y_test, model.predict(X_test))\n",
    "    test_precision = met.precision_score(y_test, model.predict(X_test))\n",
    "    \n",
    "    val_acc = met.accuracy_score(y_val, model.predict(X_val))\n",
    "    val_bal_acc = met.balanced_accuracy_score(y_val, model.predict(X_val))\n",
    "    val_f1 = met.f1_score(y_val, model.predict(X_val))\n",
    "    val_recall = met.recall_score(y_val, model.predict(X_val))\n",
    "    val_precision = met.precision_score(y_val, model.predict(X_val))\n",
    "    \n",
    "    dafa = pd.DataFrame({\n",
    "        'Accuracy':[train_acc, test_acc, val_acc],\n",
    "        'Balanced Accuracy':[train_bal_acc, test_bal_acc, val_bal_acc],\n",
    "        'F1 score':[train_f1, test_f1, val_f1],\n",
    "        'Recall':[train_recall, test_recall, val_recall],\n",
    "        'Precision':[train_precision, test_precision, val_precision]}, \n",
    "        \n",
    "        index=['Train', 'Test', 'Validation']\n",
    "    )\n",
    "    display(dafa)\n",
    "    \n",
    "    \n",
    "\n",
    "def display_feature_importances(feature_importance):\n",
    "    df = pd.DataFrame(feature_importance, index=X_train.columns\n",
    "        \n",
    "    )\n",
    "    df.plot(kind='bar')\n",
    "    plt.show()\n",
    "    \n",
    "\n",
    "def forecast(model, name):\n",
    "    pred = model.predict(clean_encoded_test)\n",
    "    pred\n",
    "\n",
    "    dic = {\n",
    "        'PassengerId':test.PassengerId,\n",
    "        'Transported':pred\n",
    "            }\n",
    "\n",
    "    cv= pd.DataFrame(dic)\n",
    "    cv['Transported'] = cv['Transported'].replace(to_replace=[1, 0], value=[True, False])\n",
    "    cv.to_csv(name, index=False)\n",
    "    display(cv)"
   ]
  },
  {
   "cell_type": "code",
   "execution_count": 156,
   "metadata": {},
   "outputs": [],
   "source": [
    "X_train, X_hold, y_train, y_hold = train_test_split(X, y, test_size=.3, stratify=y, random_state=123)\n",
    "X_test, X_val, y_test, y_val = train_test_split(X_hold, y_hold, test_size=.66, stratify=y_hold, random_state=123)"
   ]
  },
  {
   "cell_type": "code",
   "execution_count": 157,
   "metadata": {},
   "outputs": [
    {
     "data": {
      "text/html": [
       "<div>\n",
       "<style scoped>\n",
       "    .dataframe tbody tr th:only-of-type {\n",
       "        vertical-align: middle;\n",
       "    }\n",
       "\n",
       "    .dataframe tbody tr th {\n",
       "        vertical-align: top;\n",
       "    }\n",
       "\n",
       "    .dataframe thead th {\n",
       "        text-align: right;\n",
       "    }\n",
       "</style>\n",
       "<table border=\"1\" class=\"dataframe\">\n",
       "  <thead>\n",
       "    <tr style=\"text-align: right;\">\n",
       "      <th></th>\n",
       "      <th>Accuracy</th>\n",
       "      <th>Balanced Accuracy</th>\n",
       "      <th>F1 score</th>\n",
       "      <th>Recall</th>\n",
       "      <th>Precision</th>\n",
       "    </tr>\n",
       "  </thead>\n",
       "  <tbody>\n",
       "    <tr>\n",
       "      <th>Train</th>\n",
       "      <td>0.784552</td>\n",
       "      <td>0.784498</td>\n",
       "      <td>0.787348</td>\n",
       "      <td>0.791843</td>\n",
       "      <td>0.782903</td>\n",
       "    </tr>\n",
       "    <tr>\n",
       "      <th>Test</th>\n",
       "      <td>0.791196</td>\n",
       "      <td>0.791042</td>\n",
       "      <td>0.796926</td>\n",
       "      <td>0.813901</td>\n",
       "      <td>0.780645</td>\n",
       "    </tr>\n",
       "    <tr>\n",
       "      <th>Validation</th>\n",
       "      <td>0.775261</td>\n",
       "      <td>0.775117</td>\n",
       "      <td>0.780985</td>\n",
       "      <td>0.795848</td>\n",
       "      <td>0.766667</td>\n",
       "    </tr>\n",
       "  </tbody>\n",
       "</table>\n",
       "</div>"
      ],
      "text/plain": [
       "            Accuracy  Balanced Accuracy  F1 score    Recall  Precision\n",
       "Train       0.784552           0.784498  0.787348  0.791843   0.782903\n",
       "Test        0.791196           0.791042  0.796926  0.813901   0.780645\n",
       "Validation  0.775261           0.775117  0.780985  0.795848   0.766667"
      ]
     },
     "metadata": {},
     "output_type": "display_data"
    }
   ],
   "source": [
    "log_reg = LogisticRegression(max_iter=10000)\n",
    "\n",
    "log_reg.fit(X_train, y_train)\n",
    "\n",
    "assess(log_reg)"
   ]
  },
  {
   "cell_type": "code",
   "execution_count": 158,
   "metadata": {},
   "outputs": [
    {
     "data": {
      "image/png": "[encoded data removed]",
      "text/plain": [
       "<Figure size 432x288 with 1 Axes>"
      ]
     },
     "metadata": {
      "needs_background": "light"
     },
     "output_type": "display_data"
    }
   ],
   "source": [
    "display_feature_importances(np.abs(log_reg.coef_.ravel()))"
   ]
  },
  {
   "cell_type": "code",
   "execution_count": 159,
   "metadata": {},
   "outputs": [
    {
     "data": {
      "text/html": [
       "<div>\n",
       "<style scoped>\n",
       "    .dataframe tbody tr th:only-of-type {\n",
       "        vertical-align: middle;\n",
       "    }\n",
       "\n",
       "    .dataframe tbody tr th {\n",
       "        vertical-align: top;\n",
       "    }\n",
       "\n",
       "    .dataframe thead th {\n",
       "        text-align: right;\n",
       "    }\n",
       "</style>\n",
       "<table border=\"1\" class=\"dataframe\">\n",
       "  <thead>\n",
       "    <tr style=\"text-align: right;\">\n",
       "      <th></th>\n",
       "      <th>Accuracy</th>\n",
       "      <th>Balanced Accuracy</th>\n",
       "      <th>F1 score</th>\n",
       "      <th>Recall</th>\n",
       "      <th>Precision</th>\n",
       "    </tr>\n",
       "  </thead>\n",
       "  <tbody>\n",
       "    <tr>\n",
       "      <th>Train</th>\n",
       "      <td>0.792769</td>\n",
       "      <td>0.792280</td>\n",
       "      <td>0.806684</td>\n",
       "      <td>0.858401</td>\n",
       "      <td>0.760844</td>\n",
       "    </tr>\n",
       "    <tr>\n",
       "      <th>Test</th>\n",
       "      <td>0.792325</td>\n",
       "      <td>0.791842</td>\n",
       "      <td>0.807128</td>\n",
       "      <td>0.863229</td>\n",
       "      <td>0.757874</td>\n",
       "    </tr>\n",
       "    <tr>\n",
       "      <th>Validation</th>\n",
       "      <td>0.774100</td>\n",
       "      <td>0.773518</td>\n",
       "      <td>0.792533</td>\n",
       "      <td>0.856978</td>\n",
       "      <td>0.737103</td>\n",
       "    </tr>\n",
       "  </tbody>\n",
       "</table>\n",
       "</div>"
      ],
      "text/plain": [
       "            Accuracy  Balanced Accuracy  F1 score    Recall  Precision\n",
       "Train       0.792769           0.792280  0.806684  0.858401   0.760844\n",
       "Test        0.792325           0.791842  0.807128  0.863229   0.757874\n",
       "Validation  0.774100           0.773518  0.792533  0.856978   0.737103"
      ]
     },
     "metadata": {},
     "output_type": "display_data"
    }
   ],
   "source": [
    "dtc = DecisionTreeClassifier(max_depth=6)\n",
    "dtc.fit(X_train, y_train)\n",
    "\n",
    "assess(dtc)"
   ]
  },
  {
   "cell_type": "code",
   "execution_count": 160,
   "metadata": {},
   "outputs": [
    {
     "data": {
      "image/png": "[encoded data removed]",
      "text/plain": [
       "<Figure size 432x288 with 1 Axes>"
      ]
     },
     "metadata": {
      "needs_background": "light"
     },
     "output_type": "display_data"
    }
   ],
   "source": [
    "display_feature_importances(dtc.feature_importances_)"
   ]
  },
  {
   "cell_type": "code",
   "execution_count": 161,
   "metadata": {},
   "outputs": [
    {
     "data": {
      "text/html": [
       "<div>\n",
       "<style scoped>\n",
       "    .dataframe tbody tr th:only-of-type {\n",
       "        vertical-align: middle;\n",
       "    }\n",
       "\n",
       "    .dataframe tbody tr th {\n",
       "        vertical-align: top;\n",
       "    }\n",
       "\n",
       "    .dataframe thead th {\n",
       "        text-align: right;\n",
       "    }\n",
       "</style>\n",
       "<table border=\"1\" class=\"dataframe\">\n",
       "  <thead>\n",
       "    <tr style=\"text-align: right;\">\n",
       "      <th></th>\n",
       "      <th>Accuracy</th>\n",
       "      <th>Balanced Accuracy</th>\n",
       "      <th>F1 score</th>\n",
       "      <th>Recall</th>\n",
       "      <th>Precision</th>\n",
       "    </tr>\n",
       "  </thead>\n",
       "  <tbody>\n",
       "    <tr>\n",
       "      <th>Train</th>\n",
       "      <td>0.940181</td>\n",
       "      <td>0.939954</td>\n",
       "      <td>0.942350</td>\n",
       "      <td>0.970636</td>\n",
       "      <td>0.915666</td>\n",
       "    </tr>\n",
       "    <tr>\n",
       "      <th>Test</th>\n",
       "      <td>0.757336</td>\n",
       "      <td>0.756874</td>\n",
       "      <td>0.773922</td>\n",
       "      <td>0.825112</td>\n",
       "      <td>0.728713</td>\n",
       "    </tr>\n",
       "    <tr>\n",
       "      <th>Validation</th>\n",
       "      <td>0.740418</td>\n",
       "      <td>0.739981</td>\n",
       "      <td>0.756933</td>\n",
       "      <td>0.802768</td>\n",
       "      <td>0.716049</td>\n",
       "    </tr>\n",
       "  </tbody>\n",
       "</table>\n",
       "</div>"
      ],
      "text/plain": [
       "            Accuracy  Balanced Accuracy  F1 score    Recall  Precision\n",
       "Train       0.940181           0.939954  0.942350  0.970636   0.915666\n",
       "Test        0.757336           0.756874  0.773922  0.825112   0.728713\n",
       "Validation  0.740418           0.739981  0.756933  0.802768   0.716049"
      ]
     },
     "metadata": {},
     "output_type": "display_data"
    }
   ],
   "source": [
    "etc = ExtraTreeClassifier()\n",
    "etc.fit(X_train, y_train)\n",
    "\n",
    "assess(etc)"
   ]
  },
  {
   "cell_type": "code",
   "execution_count": 162,
   "metadata": {},
   "outputs": [
    {
     "data": {
      "image/png": "[encoded data removed]",
      "text/plain": [
       "<Figure size 432x288 with 1 Axes>"
      ]
     },
     "metadata": {
      "needs_background": "light"
     },
     "output_type": "display_data"
    }
   ],
   "source": [
    "display_feature_importances(etc.feature_importances_)"
   ]
  },
  {
   "cell_type": "code",
   "execution_count": 163,
   "metadata": {},
   "outputs": [
    {
     "data": {
      "text/html": [
       "<div>\n",
       "<style scoped>\n",
       "    .dataframe tbody tr th:only-of-type {\n",
       "        vertical-align: middle;\n",
       "    }\n",
       "\n",
       "    .dataframe tbody tr th {\n",
       "        vertical-align: top;\n",
       "    }\n",
       "\n",
       "    .dataframe thead th {\n",
       "        text-align: right;\n",
       "    }\n",
       "</style>\n",
       "<table border=\"1\" class=\"dataframe\">\n",
       "  <thead>\n",
       "    <tr style=\"text-align: right;\">\n",
       "      <th></th>\n",
       "      <th>Accuracy</th>\n",
       "      <th>Balanced Accuracy</th>\n",
       "      <th>F1 score</th>\n",
       "      <th>Recall</th>\n",
       "      <th>Precision</th>\n",
       "    </tr>\n",
       "  </thead>\n",
       "  <tbody>\n",
       "    <tr>\n",
       "      <th>Train</th>\n",
       "      <td>0.771405</td>\n",
       "      <td>0.770674</td>\n",
       "      <td>0.793037</td>\n",
       "      <td>0.869494</td>\n",
       "      <td>0.728939</td>\n",
       "    </tr>\n",
       "    <tr>\n",
       "      <th>Test</th>\n",
       "      <td>0.770880</td>\n",
       "      <td>0.770144</td>\n",
       "      <td>0.794326</td>\n",
       "      <td>0.878924</td>\n",
       "      <td>0.724584</td>\n",
       "    </tr>\n",
       "    <tr>\n",
       "      <th>Validation</th>\n",
       "      <td>0.768873</td>\n",
       "      <td>0.768118</td>\n",
       "      <td>0.792492</td>\n",
       "      <td>0.876586</td>\n",
       "      <td>0.723121</td>\n",
       "    </tr>\n",
       "  </tbody>\n",
       "</table>\n",
       "</div>"
      ],
      "text/plain": [
       "            Accuracy  Balanced Accuracy  F1 score    Recall  Precision\n",
       "Train       0.771405           0.770674  0.793037  0.869494   0.728939\n",
       "Test        0.770880           0.770144  0.794326  0.878924   0.724584\n",
       "Validation  0.768873           0.768118  0.792492  0.876586   0.723121"
      ]
     },
     "metadata": {},
     "output_type": "display_data"
    }
   ],
   "source": [
    "lsvc = LinearSVC(penalty='l2', loss='hinge', max_iter=1000000, C=.00001)\n",
    "lsvc.fit(X_train, y_train)\n",
    "\n",
    "assess(lsvc)"
   ]
  },
  {
   "cell_type": "code",
   "execution_count": 164,
   "metadata": {},
   "outputs": [
    {
     "data": {
      "image/png": "[encoded data removed]",
      "text/plain": [
       "<Figure size 432x288 with 1 Axes>"
      ]
     },
     "metadata": {
      "needs_background": "light"
     },
     "output_type": "display_data"
    }
   ],
   "source": [
    "display_feature_importances(np.abs(lsvc.coef_.ravel()))"
   ]
  },
  {
   "cell_type": "code",
   "execution_count": 165,
   "metadata": {},
   "outputs": [
    {
     "data": {
      "text/html": [
       "<div>\n",
       "<style scoped>\n",
       "    .dataframe tbody tr th:only-of-type {\n",
       "        vertical-align: middle;\n",
       "    }\n",
       "\n",
       "    .dataframe tbody tr th {\n",
       "        vertical-align: top;\n",
       "    }\n",
       "\n",
       "    .dataframe thead th {\n",
       "        text-align: right;\n",
       "    }\n",
       "</style>\n",
       "<table border=\"1\" class=\"dataframe\">\n",
       "  <thead>\n",
       "    <tr style=\"text-align: right;\">\n",
       "      <th></th>\n",
       "      <th>Accuracy</th>\n",
       "      <th>Balanced Accuracy</th>\n",
       "      <th>F1 score</th>\n",
       "      <th>Recall</th>\n",
       "      <th>Precision</th>\n",
       "    </tr>\n",
       "  </thead>\n",
       "  <tbody>\n",
       "    <tr>\n",
       "      <th>Train</th>\n",
       "      <td>0.823665</td>\n",
       "      <td>0.823659</td>\n",
       "      <td>0.824874</td>\n",
       "      <td>0.824470</td>\n",
       "      <td>0.825278</td>\n",
       "    </tr>\n",
       "    <tr>\n",
       "      <th>Test</th>\n",
       "      <td>0.805869</td>\n",
       "      <td>0.805814</td>\n",
       "      <td>0.808463</td>\n",
       "      <td>0.813901</td>\n",
       "      <td>0.803097</td>\n",
       "    </tr>\n",
       "    <tr>\n",
       "      <th>Validation</th>\n",
       "      <td>0.786876</td>\n",
       "      <td>0.786732</td>\n",
       "      <td>0.792303</td>\n",
       "      <td>0.807382</td>\n",
       "      <td>0.777778</td>\n",
       "    </tr>\n",
       "  </tbody>\n",
       "</table>\n",
       "</div>"
      ],
      "text/plain": [
       "            Accuracy  Balanced Accuracy  F1 score    Recall  Precision\n",
       "Train       0.823665           0.823659  0.824874  0.824470   0.825278\n",
       "Test        0.805869           0.805814  0.808463  0.813901   0.803097\n",
       "Validation  0.786876           0.786732  0.792303  0.807382   0.777778"
      ]
     },
     "metadata": {},
     "output_type": "display_data"
    }
   ],
   "source": [
    "rfc = RandomForestClassifier(max_depth=8)\n",
    "rfc.fit(X_train, y_train)\n",
    "\n",
    "assess(rfc)"
   ]
  },
  {
   "cell_type": "code",
   "execution_count": 166,
   "metadata": {},
   "outputs": [
    {
     "data": {
      "image/png": "[encoded data removed]",
      "text/plain": [
       "<Figure size 432x288 with 1 Axes>"
      ]
     },
     "metadata": {
      "needs_background": "light"
     },
     "output_type": "display_data"
    }
   ],
   "source": [
    "display_feature_importances(rfc.feature_importances_)"
   ]
  },
  {
   "cell_type": "code",
   "execution_count": 176,
   "metadata": {},
   "outputs": [
    {
     "data": {
      "text/html": [
       "<div>\n",
       "<style scoped>\n",
       "    .dataframe tbody tr th:only-of-type {\n",
       "        vertical-align: middle;\n",
       "    }\n",
       "\n",
       "    .dataframe tbody tr th {\n",
       "        vertical-align: top;\n",
       "    }\n",
       "\n",
       "    .dataframe thead th {\n",
       "        text-align: right;\n",
       "    }\n",
       "</style>\n",
       "<table border=\"1\" class=\"dataframe\">\n",
       "  <thead>\n",
       "    <tr style=\"text-align: right;\">\n",
       "      <th></th>\n",
       "      <th>Accuracy</th>\n",
       "      <th>Balanced Accuracy</th>\n",
       "      <th>F1 score</th>\n",
       "      <th>Recall</th>\n",
       "      <th>Precision</th>\n",
       "    </tr>\n",
       "  </thead>\n",
       "  <tbody>\n",
       "    <tr>\n",
       "      <th>Train</th>\n",
       "      <td>0.823500</td>\n",
       "      <td>0.823347</td>\n",
       "      <td>0.828105</td>\n",
       "      <td>0.844046</td>\n",
       "      <td>0.812755</td>\n",
       "    </tr>\n",
       "    <tr>\n",
       "      <th>Test</th>\n",
       "      <td>0.808126</td>\n",
       "      <td>0.807980</td>\n",
       "      <td>0.813187</td>\n",
       "      <td>0.829596</td>\n",
       "      <td>0.797414</td>\n",
       "    </tr>\n",
       "    <tr>\n",
       "      <th>Validation</th>\n",
       "      <td>0.789199</td>\n",
       "      <td>0.788925</td>\n",
       "      <td>0.798221</td>\n",
       "      <td>0.828143</td>\n",
       "      <td>0.770386</td>\n",
       "    </tr>\n",
       "  </tbody>\n",
       "</table>\n",
       "</div>"
      ],
      "text/plain": [
       "            Accuracy  Balanced Accuracy  F1 score    Recall  Precision\n",
       "Train       0.823500           0.823347  0.828105  0.844046   0.812755\n",
       "Test        0.808126           0.807980  0.813187  0.829596   0.797414\n",
       "Validation  0.789199           0.788925  0.798221  0.828143   0.770386"
      ]
     },
     "metadata": {},
     "output_type": "display_data"
    }
   ],
   "source": [
    "sc = StackingClassifier(\n",
    "    [\n",
    "     ('dtc', DecisionTreeClassifier(max_depth=6)),\n",
    "     ('rfc', RandomForestClassifier(max_depth=8))],\n",
    "    n_jobs=-1\n",
    ")\n",
    "\n",
    "sc.fit(X_train, y_train)\n",
    "\n",
    "assess(sc)"
   ]
  },
  {
   "cell_type": "markdown",
   "metadata": {},
   "source": [
    "The best we were able to do i about 74% accuracy. Let us see if some preprocessing can do better.\n",
    "\n",
    "\n",
    "The most important features include\n",
    "* Age\n",
    "* Cryosleep\n",
    "* HomePlanet\n",
    "\n",
    "Destination and VIP seem generally useless. We can safely drop them."
   ]
  },
  {
   "cell_type": "code",
   "execution_count": 168,
   "metadata": {},
   "outputs": [
    {
     "data": {
      "text/html": [
       "<div>\n",
       "<style scoped>\n",
       "    .dataframe tbody tr th:only-of-type {\n",
       "        vertical-align: middle;\n",
       "    }\n",
       "\n",
       "    .dataframe tbody tr th {\n",
       "        vertical-align: top;\n",
       "    }\n",
       "\n",
       "    .dataframe thead th {\n",
       "        text-align: right;\n",
       "    }\n",
       "</style>\n",
       "<table border=\"1\" class=\"dataframe\">\n",
       "  <thead>\n",
       "    <tr style=\"text-align: right;\">\n",
       "      <th></th>\n",
       "      <th>PassengerId</th>\n",
       "      <th>Transported</th>\n",
       "    </tr>\n",
       "  </thead>\n",
       "  <tbody>\n",
       "    <tr>\n",
       "      <th>0</th>\n",
       "      <td>0013_01</td>\n",
       "      <td>False</td>\n",
       "    </tr>\n",
       "    <tr>\n",
       "      <th>1</th>\n",
       "      <td>0018_01</td>\n",
       "      <td>False</td>\n",
       "    </tr>\n",
       "    <tr>\n",
       "      <th>2</th>\n",
       "      <td>0019_01</td>\n",
       "      <td>False</td>\n",
       "    </tr>\n",
       "    <tr>\n",
       "      <th>3</th>\n",
       "      <td>0021_01</td>\n",
       "      <td>False</td>\n",
       "    </tr>\n",
       "    <tr>\n",
       "      <th>4</th>\n",
       "      <td>0023_01</td>\n",
       "      <td>False</td>\n",
       "    </tr>\n",
       "  </tbody>\n",
       "</table>\n",
       "</div>"
      ],
      "text/plain": [
       "  PassengerId  Transported\n",
       "0     0013_01        False\n",
       "1     0018_01        False\n",
       "2     0019_01        False\n",
       "3     0021_01        False\n",
       "4     0023_01        False"
      ]
     },
     "execution_count": 168,
     "metadata": {},
     "output_type": "execute_result"
    }
   ],
   "source": [
    "submit.head()"
   ]
  },
  {
   "cell_type": "markdown",
   "metadata": {},
   "source": [
    "Let's prepare out test data too!\n",
    "\n",
    "Some data points are missing."
   ]
  },
  {
   "cell_type": "code",
   "execution_count": 169,
   "metadata": {},
   "outputs": [],
   "source": [
    "# Fill in the missing values\n",
    "test[['HomePlanet', 'CryoSleep', 'Cabin',\n",
    "       'Destination', 'VIP']] = test[['HomePlanet', 'CryoSleep', 'Cabin',\n",
    "       'Destination', 'VIP']].fillna(value='Unknown', axis=1)\n",
    "       \n",
    "       \n",
    "test['Age'] = test['Age'].fillna(value=test['Age'].mean())\n",
    "test['RoomService'] = test['RoomService'].fillna(value=test['RoomService'].mean())\n",
    "test['FoodCourt'] = test['FoodCourt'].fillna(value=test['FoodCourt'].mean())\n",
    "test['ShoppingMall'] = test['ShoppingMall'].fillna(value=test['ShoppingMall'].mean())\n",
    "test['Spa'] = test['Spa'].fillna(value=test['Spa'].mean())\n",
    "test['VRDeck'] = test['VRDeck'].fillna(value=test['VRDeck'].mean())"
   ]
  },
  {
   "cell_type": "code",
   "execution_count": 170,
   "metadata": {},
   "outputs": [],
   "source": [
    "# Drop the unuseful columns\n",
    "\n",
    "clean_test = test.drop(['PassengerId', 'Name', 'Cabin'], axis=1)\n",
    "encoded_test = pd.get_dummies(data=clean_test, columns=['HomePlanet', 'CryoSleep',\n",
    "                                                    'Destination','VIP'])"
   ]
  },
  {
   "cell_type": "code",
   "execution_count": 171,
   "metadata": {},
   "outputs": [],
   "source": [
    "clean_encoded_test = encoded_test.drop(['Destination_PSO J318.5-22', 'Destination_TRAPPIST-1e',\n",
    "                'Destination_Unknown', 'VIP_True', 'VIP_Unknown'], axis=1)"
   ]
  },
  {
   "cell_type": "code",
   "execution_count": 172,
   "metadata": {},
   "outputs": [],
   "source": [
    "#pca.transform(clean_encoded_test)"
   ]
  },
  {
   "cell_type": "code",
   "execution_count": 173,
   "metadata": {},
   "outputs": [],
   "source": [
    "# View the submission file first\n",
    "# forecast(rfc, 'rfc_2.csv')\n"
   ]
  }
 ],
 "metadata": {
  "kernelspec": {
   "display_name": "Python 3.10.5 64-bit",
   "language": "python",
   "name": "python3"
  },
  "language_info": {
   "codemirror_mode": {
    "name": "ipython",
    "version": 3
   },
   "file_extension": ".py",
   "mimetype": "text/x-python",
   "name": "python",
   "nbconvert_exporter": "python",
   "pygments_lexer": "ipython3",
   "version": "3.10.5"
  },
  "orig_nbformat": 4,
  "vscode": {
   "interpreter": {
    "hash": "dd62058247632cd14a93c2697a8943b281677b56293068d4740acb417a0785ae"
   }
  }
 },
 "nbformat": 4,
 "nbformat_minor": 2
}
